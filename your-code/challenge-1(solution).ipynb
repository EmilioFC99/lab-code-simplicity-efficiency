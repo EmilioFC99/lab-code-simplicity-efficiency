{
 "cells": [
  {
   "cell_type": "code",
   "execution_count": 13,
   "metadata": {},
   "outputs": [],
   "source": [
    "import operator as operator"
   ]
  },
  {
   "cell_type": "code",
   "execution_count": 14,
   "metadata": {},
   "outputs": [],
   "source": [
    "dict_nums = {'zero':0,\n",
    "                 'one':1,\n",
    "                 'two':2,\n",
    "                 'three':3,\n",
    "                 'four':4,\n",
    "                 'five':5,\n",
    "                 'six':6,\n",
    "                 'seven':7,\n",
    "                 'eight':8,\n",
    "                 'nine':9,\n",
    "                 'ten':10}\n",
    "    \n",
    "ops = {'plus' : operator.add, \n",
    "           'minus' : operator.sub}"
   ]
  },
  {
   "cell_type": "code",
   "execution_count": 15,
   "metadata": {},
   "outputs": [],
   "source": [
    "def get_key(val): \n",
    "    for key, value in dict_nums.items(): \n",
    "         if val == value: \n",
    "                return key"
   ]
  },
  {
   "cell_type": "code",
   "execution_count": 16,
   "metadata": {},
   "outputs": [],
   "source": [
    "def dumbCalc(): \n",
    "    \n",
    "    print('Welcome to this calculator!')\n",
    "    print('It can add and subtract whole numbers from zero to five')\n",
    "\n",
    "    number_1 = input('Please choose your first number (zero to five): ')\n",
    "    n1 = dict_nums.get(number_1)\n",
    "    if n1 < 0 or n1 > 5:\n",
    "        return print('NUMBER NOT VALID')\n",
    "    \n",
    "    oprtr = input('What do you want to do? plus or minus: ')\n",
    "    if oprtr != 'plus' and oprtr  != 'minus':\n",
    "        return print('OPERATOR NOT VALID')\n",
    "    op = ops.get(oprtr)\n",
    "        \n",
    "    number_2 = input('Please choose your second number (zero to five): ')\n",
    "    n2 = dict_nums.get(number_2)\n",
    "    if n2 <0 or n2 > 5:\n",
    "        return print('NUMBER NOT VALID')\n",
    "    \n",
    "    else:\n",
    "        result = op(n1,n2)\n",
    "        return (f'{number_1} {oprtr} {number_2} equals {get_key(result)}')"
   ]
  },
  {
   "cell_type": "code",
   "execution_count": 17,
   "metadata": {},
   "outputs": [
    {
     "name": "stdout",
     "output_type": "stream",
     "text": [
      "Welcome to this calculator!\n",
      "It can add and subtract whole numbers from zero to five\n",
      "Please choose your first number (zero to five): three\n",
      "What do you want to do? plus or minus: minus\n",
      "Please choose your second number (zero to five): two\n",
      "1\n"
     ]
    }
   ],
   "source": [
    "result = dumbCalc()"
   ]
  },
  {
   "cell_type": "code",
   "execution_count": 18,
   "metadata": {},
   "outputs": [
    {
     "data": {
      "text/plain": [
       "'three minus two equals one'"
      ]
     },
     "execution_count": 18,
     "metadata": {},
     "output_type": "execute_result"
    }
   ],
   "source": [
    "result"
   ]
  }
 ],
 "metadata": {
  "kernelspec": {
   "display_name": "Python 3.7 (tensorflow)",
   "language": "python",
   "name": "tensorflow"
  },
  "language_info": {
   "codemirror_mode": {
    "name": "ipython",
    "version": 3
   },
   "file_extension": ".py",
   "mimetype": "text/x-python",
   "name": "python",
   "nbconvert_exporter": "python",
   "pygments_lexer": "ipython3",
   "version": "3.7.7"
  }
 },
 "nbformat": 4,
 "nbformat_minor": 4
}
